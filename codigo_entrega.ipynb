{
 "cells": [
  {
   "cell_type": "markdown",
   "id": "05070a1e",
   "metadata": {},
   "source": [
    "## Bienvenidxs al taller de DNS."
   ]
  },
  {
   "cell_type": "markdown",
   "id": "f99fd733",
   "metadata": {},
   "source": [
    "A lo largo del taller van a poder probar los diferentes comandos que nos provee la librería Scapy para realizar consultas DNS. El objetivo es que al finalizar el taller tengan el código necesario para poder hacer los experimentos y el informe.\n",
    "\n",
    "El proceso de resolución de nombres consiste en sucesivas consultas y respuestas por parte de todos los servidores DNS involucrados. Las consultas suelen ser recursivas cuando las PC quieren resolver un nombre y le preguntan al Resolver local y suelen ser iterativas cuando los Resolvers le pasan las consultas a los servidores Autoritativos responsables de cada zona. Por esa razón, en una consulta determinada, puede haber subconsultas recursivas e iterativas. Además de los servidores autoritativos de cada zona, el sistema DNS no podría funcionar si no existieran\n",
    "servidores por encima de toda la jerarquía de zonas que funcionen como punto de partida para comenzar las\n",
    "consultas iterativas. Estos servidores se llaman Root Name Servers y tienen direcciones IP asignadas fijas,\n",
    "que nunca cambian de manera que no haga falta hacer una consulta DNS para resolverlos porque sino no se\n",
    "podría empezar. Estos servidores y sus direcciones IP están listados en la siguiente tabla:"
   ]
  },
  {
   "cell_type": "markdown",
   "id": "5996f03c",
   "metadata": {},
   "source": [
    "Nombre del Servidor|Direcciones IP (IPv4, IPv6)|Entidad propietaria\n",
    ":------------------|:--------------------------|:------------------\n",
    "a.root-servers.net|198.41.0.4, 2001:503:ba3e::2:30|Verisign, Inc.\n",
    "b.root-servers.net|199.9.14.201, 2001:500:200::b|University of Southern California\n",
    "c.root-servers.net|192.33.4.12, 2001:500:2::c|Cogent Communications\n",
    "d.root-servers.net|199.7.91.13, 2001:500:2d::d|University of Maryland\n",
    "e.root-servers.net|192.203.230.10, 2001:500:a8::e|NASA (Ames Research Center)\n",
    "f.root-servers.net|192.5.5.241, 2001:500:2f::f|Internet Systems Consortium, Inc.\n",
    "g.root-servers.net|192.112.36.4, 2001:500:12::d0d|US Department of Defense (NIC)\n",
    "h.root-servers.net|198.97.190.53, 2001:500:1::53|US Army (Research Lab)\n",
    "i.root-servers.net|192.36.148.17, 2001:7fe::53|Netnod\n",
    "j.root-servers.net|192.58.128.30, 2001:503:c27::2:30|Verisign, Inc.\n",
    "k.root-servers.net|193.0.14.129, 2001:7fd::1|RIPE NCC\n",
    "l.root-servers.net|199.7.83.42, 2001:500:9f::42|ICANN\n",
    "m.root-servers.net|202.12.27.33, 2001:dc3::35|WIDE Project"
   ]
  },
  {
   "cell_type": "markdown",
   "id": "c266afba",
   "metadata": {},
   "source": [
    "### Utilizando Scapy consultar por el registro A de www.dc.uba.ar"
   ]
  },
  {
   "cell_type": "code",
   "execution_count": 1,
   "id": "3d202d05",
   "metadata": {},
   "outputs": [
    {
     "name": "stderr",
     "output_type": "stream",
     "text": [
      "/home/nicolas/.local/lib/python3.10/site-packages/scapy/layers/ipsec.py:471: CryptographyDeprecationWarning: Blowfish has been deprecated\n",
      "  cipher=algorithms.Blowfish,\n",
      "/home/nicolas/.local/lib/python3.10/site-packages/scapy/layers/ipsec.py:485: CryptographyDeprecationWarning: CAST5 has been deprecated\n",
      "  cipher=algorithms.CAST5,\n"
     ]
    }
   ],
   "source": [
    "from scapy.all import *"
   ]
  },
  {
   "cell_type": "code",
   "execution_count": 2,
   "id": "ff535219",
   "metadata": {},
   "outputs": [],
   "source": [
    "def getMailExchange(domain, full_crawl=False):\n",
    "    dns = DNS(rd=1,qd=DNSQR(qname=domain, qtype=\"MX\"))\n",
    "    udp = UDP(sport=RandShort(), dport=53)\n",
    "    ips = [\n",
    "        (\"198.41.0.4\", 0),\n",
    "        (\"199.9.14.201\", 0),\n",
    "        (\"192.33.4.12\", 0),\n",
    "        (\"199.7.91.13\", 0),\n",
    "        (\"192.203.230.10\", 0),\n",
    "        (\"192.5.5.241\", 0),\n",
    "        (\"192.112.36.4\", 0),\n",
    "        (\"198.97.190.53\", 0),\n",
    "        (\"192.36.148.17\", 0),\n",
    "        (\"192.58.128.30\", 0),\n",
    "        (\"193.0.14.129\", 0),\n",
    "        (\"199.7.83.42\", 0),\n",
    "        (\"202.12.27.33\", 0)\n",
    "    ]\n",
    "\n",
    "    non_responsive_servers = set()\n",
    "    authority_servers = set()\n",
    "    amount_of_answers = 0\n",
    "    \n",
    "    while (len(ips) > 0):\n",
    "        t = ips.pop()\n",
    "        dst_ip, height = t[0], t[1]\n",
    "\n",
    "        ip = IP(dst=dst_ip)\n",
    "        answer = sr1(ip/udp/dns, verbose=0, timeout=10)\n",
    "        \n",
    "        if answer is not None and answer.haslayer(DNS):\n",
    "            for i in range(answer[DNS].arcount):\n",
    "                if answer[DNS].ar[i].type == 1:\n",
    "                    authority_servers.add(dst_ip)\n",
    "\n",
    "                    if answer[DNS].ancount == 0:\n",
    "                        ips.append([answer[DNS].ar[i].rdata, height + 1])\n",
    "\n",
    "            for i in range(answer[DNS].ancount):\n",
    "                amount_of_answers += 1\n",
    "                \n",
    "                if not full_crawl:\n",
    "                    print(\"Los DNS para el servidor de mail del dominio: {} - Altura: {} - Tipo: {} son: {}\".format(\n",
    "                        answer[DNS].an[i].rrname,\n",
    "                        height,\n",
    "                        answer[DNS].an[i].type,\n",
    "                        [p.exchange for p in answer[DNS].an[i].iterpayloads()]\n",
    "                    ))\n",
    "                    ips = []\n",
    "        else:\n",
    "            non_responsive_servers.add(dst_ip)\n",
    "    \n",
    "    if full_crawl:\n",
    "        print(\"#Authority Servers: {} - {}\".format(len(authority_servers), authority_servers))\n",
    "        print(\"#Authority Servers NO RESPONSE: {} - {}\".format(len(non_responsive_servers), non_responsive_servers))\n",
    "        print(\"#Responses: {}\".format(amount_of_answers))\n"
   ]
  },
  {
   "cell_type": "markdown",
   "id": "581ef12c",
   "metadata": {},
   "source": [
    "# Corridas"
   ]
  },
  {
   "cell_type": "code",
   "execution_count": 10,
   "id": "cc52053e",
   "metadata": {},
   "outputs": [
    {
     "name": "stdout",
     "output_type": "stream",
     "text": [
      "Universidad de Uzbekistan -- MX:\n",
      "Los DNS para el servidor de mail del dominio: b'nuu.uz.' - Altura: 2 - Tipo: 15 son: [b'mx.yandex.net.']\n",
      "Universidad de Polonia -- MX:\n",
      "Los DNS para el servidor de mail del dominio: b'us.edu.pl.' - Altura: 2 - Tipo: 15 son: [b'd69205b.ess.barracudanetworks.com.', b'd69205a.ess.barracudanetworks.com.']\n",
      "Los DNS para el servidor de mail del dominio: b'us.edu.pl.' - Altura: 2 - Tipo: 15 son: [b'd69205a.ess.barracudanetworks.com.']\n",
      "Universidad de Rusia -- MX:\n",
      "Los DNS para el servidor de mail del dominio: b'www.hse.ru.' - Altura: 2 - Tipo: 5 son: [b'mg2.hse.ru.', b'mg2.hse.ru.', b'mg1.hse.ru.']\n",
      "Los DNS para el servidor de mail del dominio: b'hse.ru.' - Altura: 2 - Tipo: 15 son: [b'mg2.hse.ru.', b'mg1.hse.ru.']\n",
      "Los DNS para el servidor de mail del dominio: b'hse.ru.' - Altura: 2 - Tipo: 15 son: [b'mg1.hse.ru.']\n"
     ]
    }
   ],
   "source": [
    "# Obtencion del Dominio MX\n",
    "print(\"Universidad de Uzbekistan -- MX:\")\n",
    "getMailExchange(\"nuu.uz.\", False)\n",
    "\n",
    "print(\"Universidad de Polonia -- MX:\")\n",
    "getMailExchange(\"us.edu.pl.\", False)\n",
    "\n",
    "print(\"Universidad de Rusia -- MX:\")\n",
    "getMailExchange(\"www.hse.ru.\", False)"
   ]
  },
  {
   "cell_type": "code",
   "execution_count": 11,
   "id": "2238c2a4",
   "metadata": {},
   "outputs": [
    {
     "name": "stdout",
     "output_type": "stream",
     "text": [
      "Universidad de Uzbekistan -- Full Crawl\n",
      "#Authority Servers: 21 - {'62.209.143.181', '192.112.36.4', '202.12.27.33', '185.74.6.29', '192.33.4.12', '193.0.14.129', '198.97.190.53', '192.36.148.17', '81.95.225.245', '217.12.81.129', '199.7.83.42', '192.58.128.30', '104.238.81.247', '199.9.14.201', '192.5.5.241', '83.69.129.33', '91.212.89.244', '185.196.212.7', '192.203.230.10', '198.41.0.4', '199.7.91.13'}\n",
      "#Authority Servers NO RESPONSE: 0 - set()\n",
      "#Responses: 182\n",
      "Universidad de Polonia -- Full Crawl\n",
      "#Authority Servers: 24 - {'185.159.197.48', '192.195.72.53', '192.112.36.4', '202.12.27.33', '192.33.4.12', '156.154.100.15', '193.0.14.129', '185.159.198.48', '194.0.25.29', '198.97.190.53', '149.156.1.252', '192.36.148.17', '93.190.128.146', '199.7.83.42', '46.28.245.82', '192.58.128.30', '199.9.14.201', '192.5.5.241', '155.158.99.2', '192.203.230.10', '198.41.0.4', '194.181.87.156', '199.7.91.13', '155.158.102.7'}\n",
      "#Authority Servers NO RESPONSE: 0 - set()\n",
      "#Responses: 448\n",
      "Universidad de Rusia -- Full Crawl\n",
      "#Authority Servers: 21 - {'193.232.142.17', '192.112.36.4', '202.12.27.33', '45.89.226.137', '192.33.4.12', '92.242.58.5', '92.242.59.113', '193.0.14.129', '198.97.190.53', '192.36.148.17', '194.85.252.62', '193.232.156.17', '193.232.128.6', '194.190.124.17', '199.7.83.42', '192.58.128.30', '199.9.14.201', '192.5.5.241', '192.203.230.10', '198.41.0.4', '199.7.91.13'}\n",
      "#Authority Servers NO RESPONSE: 1 - {'92.242.58.5'}\n",
      "#Responses: 582\n"
     ]
    }
   ],
   "source": [
    "# Obtencion del Dominio MX\n",
    "print(\"Universidad de Uzbekistan -- Full Crawl\")\n",
    "getMailExchange(\"nuu.uz.\", True)\n",
    "\n",
    "print(\"Universidad de Polonia -- Full Crawl\")\n",
    "getMailExchange(\"us.edu.pl.\", True)\n",
    "\n",
    "print(\"Universidad de Rusia -- Full Crawl\")\n",
    "getMailExchange(\"www.hse.ru.\", True)"
   ]
  },
  {
   "cell_type": "markdown",
   "id": "e96855f3",
   "metadata": {},
   "source": [
    "## Ejercicio:\n",
    "Adaptar el código anterior de manera que, a través de sucesivas consultas iterativas se obtenga el registro\n",
    "MX de un dominio dado. Para esto, tener en cuenta que en cada consulta DNS puede tener 3 tipos de respuestas: \n",
    "1. nos devuelven los servidores DNS a los cuales seguir preguntando\n",
    "2. nos devuelven la respuesta a la consulta que estamos haciendo\n",
    "3. nos devuelven el registro SOA de la zona indicando que el registro solicitado no forma parte de la base de datos de nombres de la zona."
   ]
  }
 ],
 "metadata": {
  "kernelspec": {
   "display_name": "Python 3 (ipykernel)",
   "language": "python",
   "name": "python3"
  },
  "language_info": {
   "codemirror_mode": {
    "name": "ipython",
    "version": 3
   },
   "file_extension": ".py",
   "mimetype": "text/x-python",
   "name": "python",
   "nbconvert_exporter": "python",
   "pygments_lexer": "ipython3",
   "version": "3.10.5"
  }
 },
 "nbformat": 4,
 "nbformat_minor": 5
}
