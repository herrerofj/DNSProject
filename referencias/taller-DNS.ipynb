{
 "cells": [
  {
   "cell_type": "code",
   "execution_count": 2,
   "id": "960bdeb1",
   "metadata": {},
   "outputs": [],
   "source": [
    "from scapy.all import *"
   ]
  },
  {
   "cell_type": "code",
   "execution_count": 20,
   "id": "8efe97e0",
   "metadata": {},
   "outputs": [],
   "source": [
    "from scapy.all import *\n",
    "\n",
    "def makeRequestRecursive(domain, stop_at_first_answer = True):\n",
    "    stack = [[\"198.41.0.4\", 0],[\"198.41.0.4\",0], [\"199.9.14.201\",0], [\"192.33.4.12\",0], [\"199.7.91.13\",0],\n",
    "             [\"192.203.230.10\",0],[\"192.5.5.241\",0], [\"192.112.36.4\",0], [\"198.97.190.53\",0],\n",
    "             [\"192.36.148.17\",0], [\"192.58.128.30\",0] ,[\"193.0.14.129\",0], [\"199.7.83.42\",0], [\"202.12.27.33\",0]]\n",
    "    dns = DNS(rd=1,qd=DNSQR(qname= domain, qtype = \"MX\"))\n",
    "    udp = UDP(sport=RandShort(), dport=53)\n",
    "    amount_of_answers = 0\n",
    "    set_authority_servers = set(())\n",
    "    set_servers_non_responsive = set(())\n",
    "    while(len(stack)>0):\n",
    "        dst,height = stack.pop()\n",
    "        ip = IP(dst= dst)\n",
    "\n",
    "        answer = sr1( ip / udp / dns , verbose=0, timeout=10)\n",
    "        \n",
    "        if answer is not None and answer.haslayer(DNS):\n",
    "            for i in range(answer[DNS].arcount):\n",
    "                if answer[DNS].ar[i].type == 1:\n",
    "                    set_authority_servers.add(dst)\n",
    "                    if answer[DNS].ancount == 0:\n",
    "                        stack.append([answer[DNS].ar[i].rdata, height +1])\n",
    "            \n",
    "            for i in range(answer[DNS].ancount):\n",
    "                amount_of_answers += 1\n",
    "                if stop_at_first_answer:\n",
    "                    print (\"La rta es: \",answer[DNS].an[i].rrname, answer[DNS].an[i].type, \n",
    "                           [x.exchange for x in answer[DNS].an[i].iterpayloads()])\n",
    "                    print(\"La altura es: \", height)\n",
    "                    stack = []\n",
    "        else:\n",
    "            if dst not in set_servers_non_responsive:\n",
    "                set_servers_non_responsive.add(dst)\n",
    "                print(\"ip de servidor que no respondio: \", dst)\n",
    "    if not stop_at_first_answer:\n",
    "        print(\"Cantidad de Authority Servers: \",len(set_authority_servers))\n",
    "        print(\"Cantidad de Authority Servers sin rta: \", len(set_servers_non_responsive))\n",
    "        print(\"Cantidad de respuestas: \", amount_of_answers)"
   ]
  },
  {
   "cell_type": "markdown",
   "id": "ab671fee",
   "metadata": {},
   "source": [
    "# Universidad de Italia"
   ]
  },
  {
   "cell_type": "code",
   "execution_count": 21,
   "id": "7d4d2de3",
   "metadata": {},
   "outputs": [
    {
     "name": "stdout",
     "output_type": "stream",
     "text": [
      "La rta es:  b'units.it.' 15 [b'mx.units.it.']\n",
      "La altura es:  2\n"
     ]
    }
   ],
   "source": [
    "makeRequestRecursive(\"units.it\", True)"
   ]
  },
  {
   "cell_type": "code",
   "execution_count": 22,
   "id": "ef7415ac",
   "metadata": {
    "scrolled": true
   },
   "outputs": [
    {
     "name": "stdout",
     "output_type": "stream",
     "text": [
      "ip de servidor que no respondio:  194.146.106.30\n",
      "ip de servidor que no respondio:  192.36.148.17\n",
      "Cantidad de Authority Servers:  20\n",
      "Cantidad de Authority Servers sin rta:  2\n",
      "Cantidad de respuestas:  195\n"
     ]
    }
   ],
   "source": [
    "makeRequestRecursive(\"units.it\", False)"
   ]
  },
  {
   "cell_type": "markdown",
   "id": "3c9c1616",
   "metadata": {},
   "source": [
    "# Universidad de Corea del Sur"
   ]
  },
  {
   "cell_type": "code",
   "execution_count": 44,
   "id": "27127294",
   "metadata": {},
   "outputs": [
    {
     "name": "stdout",
     "output_type": "stream",
     "text": [
      "La rta es:  b'yonsei.ac.kr.' 15 [b'alt2.aspmx.l.google.com.', b'alt4.aspmx.l.google.com.', b'alt3.aspmx.l.google.com.', b'alt1.aspmx.l.google.com.', b'aspmx.l.google.com.']\n",
      "La altura es:  2\n",
      "La rta es:  b'yonsei.ac.kr.' 15 [b'alt4.aspmx.l.google.com.', b'alt3.aspmx.l.google.com.', b'alt1.aspmx.l.google.com.', b'aspmx.l.google.com.']\n",
      "La altura es:  2\n",
      "La rta es:  b'yonsei.ac.kr.' 15 [b'alt3.aspmx.l.google.com.', b'alt1.aspmx.l.google.com.', b'aspmx.l.google.com.']\n",
      "La altura es:  2\n",
      "La rta es:  b'yonsei.ac.kr.' 15 [b'alt1.aspmx.l.google.com.', b'aspmx.l.google.com.']\n",
      "La altura es:  2\n",
      "La rta es:  b'yonsei.ac.kr.' 15 [b'aspmx.l.google.com.']\n",
      "La altura es:  2\n"
     ]
    }
   ],
   "source": [
    "makeRequestRecursive(\"yonsei.ac.kr\", True)"
   ]
  },
  {
   "cell_type": "code",
   "execution_count": 23,
   "id": "1cfe561e",
   "metadata": {
    "scrolled": true
   },
   "outputs": [
    {
     "name": "stdout",
     "output_type": "stream",
     "text": [
      "ip de servidor que no respondio:  192.36.148.17\n",
      "Cantidad de Authority Servers:  19\n",
      "Cantidad de Authority Servers sin rta:  1\n",
      "Cantidad de respuestas:  1560\n"
     ]
    }
   ],
   "source": [
    "makeRequestRecursive(\"yonsei.ac.kr\", False)"
   ]
  },
  {
   "cell_type": "markdown",
   "id": "8e9540af",
   "metadata": {},
   "source": [
    "# Universidad de España"
   ]
  },
  {
   "cell_type": "code",
   "execution_count": 46,
   "id": "1ee3339a",
   "metadata": {},
   "outputs": [
    {
     "name": "stdout",
     "output_type": "stream",
     "text": [
      "La rta es:  b'um.es.' 15 [b'mx01.puc.rediris.es.', b'mx02.puc.rediris.es.']\n",
      "La altura es:  2\n",
      "La rta es:  b'um.es.' 15 [b'mx02.puc.rediris.es.']\n",
      "La altura es:  2\n"
     ]
    }
   ],
   "source": [
    "makeRequestRecursive(\"um.es\", True)"
   ]
  },
  {
   "cell_type": "code",
   "execution_count": 50,
   "id": "3a1dd1e3",
   "metadata": {},
   "outputs": [
    {
     "name": "stdout",
     "output_type": "stream",
     "text": [
      "ip de servidor que no respondio:  192.36.148.17\n",
      "Cantidad de Authority Servers:  572\n",
      "Cantidad de respuestas:  416\n"
     ]
    }
   ],
   "source": [
    "makeRequestRecursive(\"um.es\", False)"
   ]
  }
 ],
 "metadata": {
  "kernelspec": {
   "display_name": "Python 3 (ipykernel)",
   "language": "python",
   "name": "python3"
  },
  "language_info": {
   "codemirror_mode": {
    "name": "ipython",
    "version": 3
   },
   "file_extension": ".py",
   "mimetype": "text/x-python",
   "name": "python",
   "nbconvert_exporter": "python",
   "pygments_lexer": "ipython3",
   "version": "3.9.7"
  }
 },
 "nbformat": 4,
 "nbformat_minor": 5
}
